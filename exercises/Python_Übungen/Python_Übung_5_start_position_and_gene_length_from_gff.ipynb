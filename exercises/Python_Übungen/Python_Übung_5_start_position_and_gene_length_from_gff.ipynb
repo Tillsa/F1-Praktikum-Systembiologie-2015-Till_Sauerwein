{
 "cells": [
  {
   "cell_type": "code",
   "execution_count": 1,
   "metadata": {
    "collapsed": true
   },
   "outputs": [],
   "source": [
    "%matplotlib inline\n",
    "from urllib import request\n",
    "from Bio import SeqIO\n",
    "import matplotlib.pyplot as plt\n",
    "from scipy import stats"
   ]
  },
  {
   "cell_type": "code",
   "execution_count": 63,
   "metadata": {
    "collapsed": false,
    "scrolled": false
   },
   "outputs": [],
   "source": [
    "gff_file_handle = open(\"gencode.v23.annotation.gff3\")\n",
    "output = open(\"Star_End_length.cvs\", \"w\")          # \"w\" schreibt neue date; \"a\" hängt an \n",
    "for current_line in gff_file_handle.readlines():\n",
    "    if current_line.startswith(\"#\"):\n",
    "        continue\n",
    "    seperated_line = current_line.split()\n",
    "    if seperated_line[0].startswith(\"chr1\") and seperated_line[2].startswith(\"gene\"):\n",
    "        gene_length = int(seperated_line[4]) - int(seperated_line[3]) + 1\n",
    "        output.write(\"{}\\t{}\\n\".format(seperated_line[3], gene_length)) #\\n newline \\t tab .write schreibt datei"
   ]
  },
  {
   "cell_type": "code",
   "execution_count": null,
   "metadata": {
    "collapsed": true
   },
   "outputs": [],
   "source": []
  }
 ],
 "metadata": {
  "kernelspec": {
   "display_name": "Python 3",
   "language": "python",
   "name": "python3"
  },
  "language_info": {
   "codemirror_mode": {
    "name": "ipython",
    "version": 3
   },
   "file_extension": ".py",
   "mimetype": "text/x-python",
   "name": "python",
   "nbconvert_exporter": "python",
   "pygments_lexer": "ipython3",
   "version": "3.4.3"
  }
 },
 "nbformat": 4,
 "nbformat_minor": 0
}
