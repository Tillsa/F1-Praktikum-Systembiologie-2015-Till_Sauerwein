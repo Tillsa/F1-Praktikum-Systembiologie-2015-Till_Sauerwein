{
 "cells": [
  {
   "cell_type": "markdown",
   "metadata": {},
   "source": [
    "# Zählen aller Aminosäuren in einer fasta-Datei durch erstellen einer library"
   ]
  },
  {
   "cell_type": "code",
   "execution_count": 114,
   "metadata": {
    "collapsed": true
   },
   "outputs": [],
   "source": [
    "%matplotlib inline\n",
    "from urllib import request\n",
    "from Bio import SeqIO\n",
    "import matplotlib.pyplot as plt\n",
    "from scipy import stats"
   ]
  },
  {
   "cell_type": "code",
   "execution_count": 99,
   "metadata": {
    "collapsed": false,
    "scrolled": true
   },
   "outputs": [
    {
     "name": "stdout",
     "output_type": "stream",
     "text": [
      "--2015-09-14 10:49:59--  ftp://ftp.ncbi.nih.gov/genomes/Bacteria/Salmonella_enterica_serovar_Typhimurium_SL1344_uid86645/NC_016810.faa\n",
      "           => ‘NC_016810.faa.3’\n",
      "Resolving ftp.ncbi.nih.gov (ftp.ncbi.nih.gov)... 130.14.250.13, 2607:f220:41e:250::13\n",
      "Connecting to ftp.ncbi.nih.gov (ftp.ncbi.nih.gov)|130.14.250.13|:21... connected.\n",
      "Logging in as anonymous ... Logged in!\n",
      "==> SYST ... done.    ==> PWD ... done.\n",
      "==> TYPE I ... done.  ==> CWD (1) /genomes/Bacteria/Salmonella_enterica_serovar_Typhimurium_SL1344_uid86645 ... done.\n",
      "==> SIZE NC_016810.faa ... 2033116\n",
      "==> PASV ... done.    ==> RETR NC_016810.faa ... done.\n",
      "Length: 2033116 (1,9M) (unauthoritative)\n",
      "\n",
      "NC_016810.faa.3      76%[===============>      ]   1,47M   935KB/s             "
     ]
    }
   ],
   "source": [
    "! wget ftp://ftp.ncbi.nih.gov/genomes/Bacteria/Salmonella_enterica_serovar_Typhimurium_SL1344_uid86645/NC_016810.faa"
   ]
  },
  {
   "cell_type": "code",
   "execution_count": 100,
   "metadata": {
    "collapsed": false
   },
   "outputs": [
    {
     "name": "stdout",
     "output_type": "stream",
     "text": [
      "<module 'Bio.SeqIO' from '/usr/lib/python3/dist-packages/Bio/SeqIO/__init__.py'>\n"
     ]
    }
   ],
   "source": [
    "for seq_record in SeqIO.parse(\"NC_016810.faa\", \"fasta\"): # was ist SeqIO??\n",
    "    print(SeqIO)\n",
    "    break"
   ]
  },
  {
   "cell_type": "code",
   "execution_count": 101,
   "metadata": {
    "collapsed": false
   },
   "outputs": [
    {
     "name": "stdout",
     "output_type": "stream",
     "text": [
      "ID: gi|378697984|ref|YP_005179941.1|\n",
      "Name: gi|378697984|ref|YP_005179941.1|\n",
      "Description: gi|378697984|ref|YP_005179941.1| thr operon leader peptide [Salmonella enterica subsp. enterica serovar Typhimurium str. SL1344]\n",
      "Number of features: 0\n",
      "Seq('MTEYTTSMNRISTTTITTITITTGNGAG', SingleLetterAlphabet())\n"
     ]
    }
   ],
   "source": [
    "for seq_record in SeqIO.parse(\"NC_016810.faa\", \"fasta\"):# x.parse teilt die fasta in Objekte auf. Objekte wurden \"seq_record\" benannt\n",
    "        print(seq_record)\n",
    "        break"
   ]
  },
  {
   "cell_type": "code",
   "execution_count": 102,
   "metadata": {
    "collapsed": false
   },
   "outputs": [
    {
     "name": "stdout",
     "output_type": "stream",
     "text": [
      "MTEYTTSMNRISTTTITTITITTGNGAG\n"
     ]
    }
   ],
   "source": [
    "for seq_record in SeqIO.parse(\"NC_016810.faa\", \"fasta\"):\n",
    "        print(str(seq_record.seq))#x.seq schneidet die Aminosäurensequenz eines einzelnen Objekts aus\n",
    "        break    #mit print die Sequenzanzeigen lassen. Nicht vergessen: Sequenz mit str() in String verwandeln"
   ]
  },
  {
   "cell_type": "code",
   "execution_count": 103,
   "metadata": {
    "collapsed": false,
    "scrolled": false
   },
   "outputs": [
    {
     "name": "stdout",
     "output_type": "stream",
     "text": [
      "M\n"
     ]
    }
   ],
   "source": [
    "for seq_record in SeqIO.parse(\"NC_016810.faa\", \"fasta\"):\n",
    "    for amino_acid in str(seq_record.seq):# \"str(seq_record.seq)\" gibt die ASS als String für jeden einzelnen seq_record(\"seq_record's\" enthielten davor noch andere Informationen neben der ASS) aus\n",
    "        print(amino_acid)# \"for amino_acid in\" für jede einzelne Aminosäure (Element im String) werden die nachfolgenden Aktionen durchgeführt.\n",
    "        break\n",
    "    break"
   ]
  },
  {
   "cell_type": "code",
   "execution_count": 104,
   "metadata": {
    "collapsed": false,
    "scrolled": true
   },
   "outputs": [
    {
     "name": "stdout",
     "output_type": "stream",
     "text": [
      "{'M': 0}\n"
     ]
    }
   ],
   "source": [
    "amino_acid_countings = {} # Erstellt ein dictionary, das allerdings leer ist. dictionarys bestehen aus Schlüssel-Objektpaaren. Beispiel: food = {\"ham\" : \"yes\", \"egg\" : \"yes\", \"spam\" : \"no\" } \n",
    "\n",
    "for seq_record in SeqIO.parse(\"NC_016810.faa\", \"fasta\"):\n",
    "    for amino_acid in str(seq_record.seq):\n",
    "        amino_acid_countings.setdefault(amino_acid, 0)#\"dict.setdefault(key, default=None)\" amino_acid ist also der Key. Nach dem Komma wird ein Wert hinzugefügt\n",
    "        print(amino_acid_countings)\n",
    "        break\n",
    "    break"
   ]
  },
  {
   "cell_type": "code",
   "execution_count": 105,
   "metadata": {
    "collapsed": false
   },
   "outputs": [
    {
     "name": "stdout",
     "output_type": "stream",
     "text": [
      "{'M': 1}\n"
     ]
    }
   ],
   "source": [
    "amino_acid_countings = {}\n",
    "\n",
    "for seq_record in SeqIO.parse(\"NC_016810.faa\", \"fasta\"):\n",
    "    for amino_acid in str(seq_record.seq):\n",
    "        amino_acid_countings.setdefault(amino_acid, 0)#Falls bereits ein Eintrag im dictionary besteht, setzt \".setdefault() den Wert nicht auf 0 und den nächste Befehl ist an der Reihe \n",
    "        amino_acid_countings[amino_acid] += 1# fügt dem dictionary den Wert 1 hinzu\n",
    "        print(amino_acid_countings)\n",
    "        break\n",
    "    break"
   ]
  },
  {
   "cell_type": "code",
   "execution_count": 115,
   "metadata": {
    "collapsed": false
   },
   "outputs": [
    {
     "name": "stdout",
     "output_type": "stream",
     "text": [
      "103602\n",
      "32246\n",
      "78889\n",
      "98495\n",
      "61273\n",
      "76925\n",
      "38998\n",
      "78645\n",
      "16188\n",
      "149603\n",
      "21384\n",
      "83453\n",
      "81089\n",
      "40218\n",
      "73294\n",
      "60303\n",
      "62717\n",
      "54201\n",
      "137164\n",
      "53480\n"
     ]
    }
   ],
   "source": [
    "amino_acid_countings = {}\n",
    "amino_acid_frequencies = []\n",
    "for seq_record in SeqIO.parse(\"NC_016810.faa\", \"fasta\"):\n",
    "    for amino_acid in str(seq_record.seq):\n",
    "        amino_acid_countings.setdefault(amino_acid, 0)\n",
    "        amino_acid_countings[amino_acid] += 1\n",
    "    \n",
    "for amino_acid, counting in amino_acid_countings.items():\n",
    "    #print(amino_acid, counting)\n",
    "    amino_acid_frequencies.append(counting)\n",
    "    print(counting)"
   ]
  },
  {
   "cell_type": "code",
   "execution_count": 116,
   "metadata": {
    "collapsed": false
   },
   "outputs": [
    {
     "name": "stdout",
     "output_type": "stream",
     "text": [
      "[0, 1, 2, 3, 4]\n"
     ]
    },
    {
     "data": {
      "image/png": "[encoded data removed]",
      "text/plain": [
       "<matplotlib.figure.Figure at 0x7fefe5058d30>"
      ]
     },
     "metadata": {},
     "output_type": "display_data"
    }
   ],
   "source": [
    "plt.bar(range(len(amino_acid_countings)), amino_acid_countings.values())# mit range wird die Länge der x-achse angegeben: bei range(5) ist die x-achse 5 elemente lang und beginnt per default bei 0\n",
    "print(list(range(5)))\n"
   ]
  },
  {
   "cell_type": "code",
   "execution_count": 117,
   "metadata": {
    "collapsed": false
   },
   "outputs": [
    {
     "name": "stdout",
     "output_type": "stream",
     "text": [
      "gi|378697984|ref|YP_005179941.1| 28\n",
      "gi|378697985|ref|YP_005179942.1| 820\n",
      "dict_items([('G', 68), ('H', 15), ('R', 47), ('V', 67), ('Q', 33), ('T', 44), ('M', 25), ('E', 45), ('C', 12), ('L', 90), ('W', 4), ('I', 52), ('S', 55), ('Y', 19), ('D', 46), ('K', 32), ('P', 30), ('F', 30), ('A', 94), ('N', 40)])\n"
     ]
    }
   ],
   "source": [
    "amino_acid_countings = {}\n",
    "\n",
    "for seq_record in SeqIO.parse(\"NC_016810.faa\", \"fasta\"):\n",
    "    print(seq_record.id, len(str(seq_record.seq)))\n",
    "    for amino_acid in str(seq_record.seq):\n",
    "        amino_acid_countings.setdefault(amino_acid, 0)\n",
    "        amino_acid_countings[amino_acid] += 1\n",
    "    if len(str(seq_record.seq)) > 500:\n",
    "        break\n",
    "print(amino_acid_countings.items())\n",
    "\n"
   ]
  },
  {
   "cell_type": "code",
   "execution_count": 119,
   "metadata": {
    "collapsed": true
   },
   "outputs": [],
   "source": [
    "plt.bar?"
   ]
  },
  {
   "cell_type": "code",
   "execution_count": 120,
   "metadata": {
    "collapsed": false
   },
   "outputs": [],
   "source": [
    "protein_length_list = []\n",
    "\n",
    "for seq_record in SeqIO.parse(\"NC_016810.faa\", \"fasta\"):\n",
    "    len(str(seq_record.seq))\n",
    "    protein_length_list.append(len(str(seq_record.seq)))\n",
    "#print(protein_lenght_list)"
   ]
  },
  {
   "cell_type": "code",
   "execution_count": 111,
   "metadata": {
    "collapsed": true
   },
   "outputs": [],
   "source": [
    "plt.style.use(\"ggplot\")"
   ]
  },
  {
   "cell_type": "code",
   "execution_count": 127,
   "metadata": {
    "collapsed": false
   },
   "outputs": [
    {
     "data": {
      "image/png": "[encoded data removed]",
      "text/plain": [
       "<matplotlib.figure.Figure at 0x7fefe4989400>"
      ]
     },
     "metadata": {},
     "output_type": "display_data"
    }
   ],
   "source": [
    "histo = plt.hist(protein_length_list, bins = 100, color = \"black\")"
   ]
  },
  {
   "cell_type": "code",
   "execution_count": 113,
   "metadata": {
    "collapsed": false
   },
   "outputs": [
    {
     "name": "stdout",
     "output_type": "stream",
     "text": [
      "G 103602\n",
      "H 32246\n",
      "R 78889\n",
      "V 98495\n",
      "Q 61273\n",
      "T 76925\n",
      "M 38998\n",
      "E 78645\n",
      "C 16188\n",
      "L 149603\n",
      "W 21384\n",
      "I 83453\n",
      "S 81089\n",
      "Y 40218\n",
      "D 73294\n",
      "K 60303\n",
      "P 62717\n",
      "F 54201\n",
      "A 137164\n",
      "N 53480\n"
     ]
    }
   ],
   "source": [
    "amino_acid_countings = {}\n",
    "\n",
    "for seq_record in SeqIO.parse(\"NC_016810.faa\", \"fasta\"):\n",
    "    for amino_acid in str(seq_record.seq):\n",
    "        amino_acid_countings.setdefault(amino_acid, 0)\n",
    "        amino_acid_countings[amino_acid] += 1\n",
    "    \n",
    "for amino_acid, counting in amino_acid_countings.items():# x.items gibt den Key und den Value einer library aus.\n",
    "    print(amino_acid, counting)# \"for amino_acid ,counting\" benennt dann Key und Value"
   ]
  },
  {
   "cell_type": "code",
   "execution_count": null,
   "metadata": {
    "collapsed": true
   },
   "outputs": [],
   "source": []
  }
 ],
 "metadata": {
  "kernelspec": {
   "display_name": "Python 3",
   "language": "python",
   "name": "python3"
  },
  "language_info": {
   "codemirror_mode": {
    "name": "ipython",
    "version": 3
   },
   "file_extension": ".py",
   "mimetype": "text/x-python",
   "name": "python",
   "nbconvert_exporter": "python",
   "pygments_lexer": "ipython3",
   "version": "3.4.3"
  }
 },
 "nbformat": 4,
 "nbformat_minor": 0
}
