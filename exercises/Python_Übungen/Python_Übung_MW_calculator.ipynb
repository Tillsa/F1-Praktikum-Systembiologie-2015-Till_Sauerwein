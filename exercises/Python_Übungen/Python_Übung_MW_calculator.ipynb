{
 "cells": [
  {
   "cell_type": "code",
   "execution_count": 67,
   "metadata": {
    "collapsed": false
   },
   "outputs": [],
   "source": [
    "def mw_calculator(aa_seq):         # Das ist alles Käse!! die function braucht als Eingabe auf jeden fall einen String!\n",
    "    aa_seq_string = str(aa_seq)\n",
    "    aa_seq_list = list(aa_seq_string)\n",
    "    A = 1\n",
    "    R = 2\n",
    "    N = 3\n",
    "    aa_seq_list\n",
    "    \n"
   ]
  },
  {
   "cell_type": "code",
   "execution_count": 68,
   "metadata": {
    "collapsed": false
   },
   "outputs": [],
   "source": [
    "mw_calculator(\"ARN\")#auch käse"
   ]
  },
  {
   "cell_type": "code",
   "execution_count": null,
   "metadata": {
    "collapsed": false
   },
   "outputs": [],
   "source": [
    "def mol_wt(aa_seq):\n",
    "    amino_acid = {'A' : 89, 'R' : 174, 'N' : 132}\n",
    "    mol_wt_of_query = []\n",
    "    for char in aa_seq:\n",
    "        mol_wt_of_query.append(amino_acid[char])# amino_acid[char] ruft aus dem dictionary den Value des Keys char auf\n",
    "    return(sum(mol_wt_of_query))\n"
   ]
  },
  {
   "cell_type": "code",
   "execution_count": null,
   "metadata": {
    "collapsed": true
   },
   "outputs": [],
   "source": []
  },
  {
   "cell_type": "code",
   "execution_count": null,
   "metadata": {
    "collapsed": false
   },
   "outputs": [],
   "source": [
    "amino_acid = {'A' : 89, 'R' : 174, 'N' : 132}\n",
    "amino_acid[\"A\"]"
   ]
  },
  {
   "cell_type": "code",
   "execution_count": null,
   "metadata": {
    "collapsed": false
   },
   "outputs": [],
   "source": [
    "#ARN = \"AAA\"\n",
    "mol_wt(ARN)"
   ]
  },
  {
   "cell_type": "code",
   "execution_count": null,
   "metadata": {
    "collapsed": false
   },
   "outputs": [],
   "source": [
    "mol_wt(\"ARN\")"
   ]
  },
  {
   "cell_type": "code",
   "execution_count": null,
   "metadata": {
    "collapsed": true
   },
   "outputs": [],
   "source": []
  }
 ],
 "metadata": {
  "kernelspec": {
   "display_name": "Python 3",
   "language": "python",
   "name": "python3"
  },
  "language_info": {
   "codemirror_mode": {
    "name": "ipython",
    "version": 3
   },
   "file_extension": ".py",
   "mimetype": "text/x-python",
   "name": "python",
   "nbconvert_exporter": "python",
   "pygments_lexer": "ipython3",
   "version": "3.4.3"
  }
 },
 "nbformat": 4,
 "nbformat_minor": 0
}
